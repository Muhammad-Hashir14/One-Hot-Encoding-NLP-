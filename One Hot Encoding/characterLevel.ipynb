{
  "nbformat": 4,
  "nbformat_minor": 0,
  "metadata": {
    "colab": {
      "provenance": []
    },
    "kernelspec": {
      "name": "python3",
      "display_name": "Python 3"
    },
    "language_info": {
      "name": "python"
    }
  },
  "cells": [
    {
      "cell_type": "code",
      "execution_count": 1,
      "metadata": {
        "colab": {
          "base_uri": "https://localhost:8080/"
        },
        "id": "23AJ2qfwMmQU",
        "outputId": "a2ee2846-22b9-4554-bc1a-f1ad84c8b5c6"
      },
      "outputs": [
        {
          "output_type": "execute_result",
          "data": {
            "text/plain": [
              "{'T': 1,\n",
              " 'h': 2,\n",
              " 'e': 3,\n",
              " 'c': 4,\n",
              " 'a': 5,\n",
              " 't': 6,\n",
              " 's': 7,\n",
              " 'o': 8,\n",
              " 'n': 9,\n",
              " 'm': 10,\n",
              " '.': 11,\n",
              " 'd': 12,\n",
              " 'g': 13,\n",
              " 'y': 14,\n",
              " 'w': 15,\n",
              " 'r': 16,\n",
              " 'k': 17}"
            ]
          },
          "metadata": {},
          "execution_count": 1
        }
      ],
      "source": [
        "import numpy as np\n",
        "samples = ['The cat sat on the mat.', 'The dog ate my homework.']\n",
        "dict_ = {}\n",
        "for sample in samples:\n",
        "  for word in sample.split():\n",
        "    for character in word:\n",
        "      if character not in dict_:\n",
        "        dict_[character] = len(dict_) + 1\n",
        "dict_"
      ]
    },
    {
      "cell_type": "code",
      "source": [
        "import string\n",
        "characters = string.printable\n",
        "token_word = dict(zip(range(1, len(characters) +1 ) , characters))\n",
        "token_word\n",
        "max_length = 50\n",
        "result = np.zeros(shape = (len(samples), max_length, max(token_word.keys())+1))\n",
        "for i, sample in enumerate(samples):\n",
        "  for j, word in enumerate(sample):\n",
        "    index = token_word.get(word)\n",
        "    result[i,j,index] = 1"
      ],
      "metadata": {
        "id": "DXLuo8L3NoEV"
      },
      "execution_count": 16,
      "outputs": []
    },
    {
      "cell_type": "code",
      "source": [
        "result"
      ],
      "metadata": {
        "colab": {
          "base_uri": "https://localhost:8080/"
        },
        "id": "HABFEhsFPBIT",
        "outputId": "6c6cc400-3f32-4bee-87e2-131d039afa88"
      },
      "execution_count": 17,
      "outputs": [
        {
          "output_type": "execute_result",
          "data": {
            "text/plain": [
              "array([[[1., 1., 1., ..., 1., 1., 1.],\n",
              "        [1., 1., 1., ..., 1., 1., 1.],\n",
              "        [1., 1., 1., ..., 1., 1., 1.],\n",
              "        ...,\n",
              "        [0., 0., 0., ..., 0., 0., 0.],\n",
              "        [0., 0., 0., ..., 0., 0., 0.],\n",
              "        [0., 0., 0., ..., 0., 0., 0.]],\n",
              "\n",
              "       [[1., 1., 1., ..., 1., 1., 1.],\n",
              "        [1., 1., 1., ..., 1., 1., 1.],\n",
              "        [1., 1., 1., ..., 1., 1., 1.],\n",
              "        ...,\n",
              "        [0., 0., 0., ..., 0., 0., 0.],\n",
              "        [0., 0., 0., ..., 0., 0., 0.],\n",
              "        [0., 0., 0., ..., 0., 0., 0.]]])"
            ]
          },
          "metadata": {},
          "execution_count": 17
        }
      ]
    }
  ]
}